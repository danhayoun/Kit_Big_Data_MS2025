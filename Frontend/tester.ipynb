{
 "cells": [
  {
   "cell_type": "code",
   "execution_count": null,
   "metadata": {},
   "outputs": [],
   "source": [
    "import numpy as np \n",
    "import matplotlib.pyplot as plt \n",
    "import pandas as pd \n",
    "import seaborn as sns \n",
    "from datetime import datetime, date \n",
    "import matplotlib.dates as mdates\n",
    "import pickle\n",
    "import cursor as cr"
   ]
  },
  {
   "cell_type": "code",
   "execution_count": null,
   "metadata": {},
   "outputs": [],
   "source": [
    "def extraction_csv_tst() :\n",
    "    tst_df = pd.DataFrame({\n",
    "        'submitted': [10 for i in range(182)],\n",
    "        'id': [i for i in range(182)],\n",
    "        'minutes': [i**2 for i in range(182)],\n",
    "    })\n",
    "\n",
    "\n",
    "    return 1"
   ]
  },
  {
   "cell_type": "code",
   "execution_count": null,
   "metadata": {},
   "outputs": [],
   "source": [
    "def dictionnaire_minutes_tst() :\n",
    "\n",
    "    return 1"
   ]
  },
  {
   "cell_type": "code",
   "execution_count": null,
   "metadata": {},
   "outputs": [],
   "source": [
    "def top_liste_tst() :\n",
    "\n",
    "\n",
    "    return 1"
   ]
  },
  {
   "cell_type": "code",
   "execution_count": null,
   "metadata": {},
   "outputs": [],
   "source": [
    "def boxplot_tst() :\n",
    "\n",
    "    return 1"
   ]
  },
  {
   "cell_type": "code",
   "execution_count": null,
   "metadata": {},
   "outputs": [],
   "source": [
    "def filtre_minutes_tst() :\n",
    "\n",
    "    return 1"
   ]
  },
  {
   "cell_type": "code",
   "execution_count": null,
   "metadata": {},
   "outputs": [],
   "source": [
    "def generate_cursor_dataframe_tst() :\n",
    "\n",
    "    return 1"
   ]
  },
  {
   "cell_type": "code",
   "execution_count": null,
   "metadata": {},
   "outputs": [],
   "source": [
    "def df_to_pickle_tst() :\n",
    "\n",
    "    return 1"
   ]
  },
  {
   "cell_type": "code",
   "execution_count": null,
   "metadata": {},
   "outputs": [],
   "source": [
    "def generate_camemberts_significatifs_tst() :\n",
    "\n",
    "    return 1 "
   ]
  }
 ],
 "metadata": {
  "kernelspec": {
   "display_name": "env_TP2",
   "language": "python",
   "name": "python3"
  },
  "language_info": {
   "name": "python",
   "version": "3.12.6"
  },
  "orig_nbformat": 4,
  "vscode": {
   "interpreter": {
    "hash": "dac106c35ce3d047d16e564b0a4c64d2054fbff410f883fbe9cca57677e1729f"
   }
  }
 },
 "nbformat": 4,
 "nbformat_minor": 2
}
