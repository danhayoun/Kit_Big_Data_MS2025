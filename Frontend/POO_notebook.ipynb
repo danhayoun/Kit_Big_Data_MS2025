{
 "cells": [
  {
   "cell_type": "code",
   "execution_count": 1,
   "metadata": {},
   "outputs": [],
   "source": [
    "import numpy as np \n",
    "import matplotlib.pyplot as plt \n",
    "import pandas as pd \n",
    "import seaborn as sns \n",
    "from datetime import datetime, date \n",
    "import matplotlib.dates as mdates\n",
    "import pickle\n",
    "import streamlit as st\n",
    "from Classe_pickle import Display,DatabaseDisplay"
   ]
  },
  {
   "cell_type": "code",
   "execution_count": 2,
   "metadata": {},
   "outputs": [
    {
     "data": {
      "text/plain": [
       "<module 'Classe_pickle' from '/Users/dan2/Desktop/Télécom-master-spé/P1/P1-BGD700-Python/Kit_Big_Data_MS2025/Frontend/Classe_pickle.py'>"
      ]
     },
     "execution_count": 2,
     "metadata": {},
     "output_type": "execute_result"
    }
   ],
   "source": [
    "import importlib\n",
    "import Classe_pickle\n",
    "importlib.reload(Classe_pickle)"
   ]
  },
  {
   "cell_type": "code",
   "execution_count": 3,
   "metadata": {},
   "outputs": [
    {
     "name": "stdout",
     "output_type": "stream",
     "text": [
      "correlation\n",
      "temps_de_cuisson\n"
     ]
    },
    {
     "ename": "ValueError",
     "evalue": "La page doit être une chaîne de caractères parmis :temps_de_cuisson, correlation, techniques_cuisine",
     "output_type": "error",
     "traceback": [
      "\u001b[0;31m---------------------------------------------------------------------------\u001b[0m",
      "\u001b[0;31mValueError\u001b[0m                                Traceback (most recent call last)",
      "Cell \u001b[0;32mIn[3], line 6\u001b[0m\n\u001b[1;32m      4\u001b[0m tableur\u001b[39m.\u001b[39mset_page(\u001b[39m\"\u001b[39m\u001b[39mtemps_de_cuisson\u001b[39m\u001b[39m\"\u001b[39m)\n\u001b[1;32m      5\u001b[0m \u001b[39mprint\u001b[39m(tableur\u001b[39m.\u001b[39mget_page())\n\u001b[0;32m----> 6\u001b[0m tableur\u001b[39m.\u001b[39mset_page(\u001b[39m\"\u001b[39m\u001b[39mfake\u001b[39m\u001b[39m\"\u001b[39m)\n\u001b[1;32m      7\u001b[0m \u001b[39mprint\u001b[39m(tableur\u001b[39m.\u001b[39mget_page())\n",
      "File \u001b[0;32m~/Desktop/Télécom-master-spé/P1/P1-BGD700-Python/Kit_Big_Data_MS2025/Frontend/Classe_pickle.py:22\u001b[0m, in \u001b[0;36mDisplay.set_page\u001b[0;34m(self, new_page)\u001b[0m\n\u001b[1;32m     20\u001b[0m     \u001b[39mself\u001b[39m\u001b[39m.\u001b[39m__page \u001b[39m=\u001b[39m new_page\n\u001b[1;32m     21\u001b[0m \u001b[39melse\u001b[39;00m:\n\u001b[0;32m---> 22\u001b[0m     \u001b[39mraise\u001b[39;00m \u001b[39mValueError\u001b[39;00m(\u001b[39mf\u001b[39m\u001b[39m\"\u001b[39m\u001b[39mLa page doit être une chaîne de caractères parmis :\u001b[39m\u001b[39m{\u001b[39;00m\u001b[39m'\u001b[39m\u001b[39m, \u001b[39m\u001b[39m'\u001b[39m\u001b[39m.\u001b[39mjoin(pages)\u001b[39m}\u001b[39;00m\u001b[39m\"\u001b[39m)\n",
      "\u001b[0;31mValueError\u001b[0m: La page doit être une chaîne de caractères parmis :temps_de_cuisson, correlation, techniques_cuisine"
     ]
    }
   ],
   "source": [
    "#Code de test \n",
    "tableur = Display(\"correlation\")\n",
    "print(tableur.get_page())\n",
    "tableur.set_page(\"temps_de_cuisson\")\n",
    "print(tableur.get_page())\n",
    "tableur.set_page(\"fake\")\n",
    "print(tableur.get_page())"
   ]
  }
 ],
 "metadata": {
  "kernelspec": {
   "display_name": "bigData_env1",
   "language": "python",
   "name": "python3"
  },
  "language_info": {
   "codemirror_mode": {
    "name": "ipython",
    "version": 3
   },
   "file_extension": ".py",
   "mimetype": "text/x-python",
   "name": "python",
   "nbconvert_exporter": "python",
   "pygments_lexer": "ipython3",
   "version": "3.12.6"
  },
  "orig_nbformat": 4,
  "vscode": {
   "interpreter": {
    "hash": "8fc9cf1258bc7273ba58306f53a29c8226c8d225c42dbb4d9d586d7ad2ded7ab"
   }
  }
 },
 "nbformat": 4,
 "nbformat_minor": 2
}
