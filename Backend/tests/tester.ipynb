{
 "cells": [
  {
   "cell_type": "code",
   "execution_count": 26,
   "metadata": {},
   "outputs": [],
   "source": [
    "import numpy as np \n",
    "import matplotlib.pyplot as plt \n",
    "import pandas as pd \n",
    "import seaborn as sns \n",
    "from datetime import datetime, date \n",
    "import matplotlib.dates as mdates\n",
    "import pickle\n",
    "import cursor as cr\n",
    "import pytest"
   ]
  },
  {
   "cell_type": "code",
   "execution_count": 9,
   "metadata": {},
   "outputs": [
    {
     "name": "stdout",
     "output_type": "stream",
     "text": [
      "Test réussi pour DataFrame\n"
     ]
    },
    {
     "data": {
      "text/plain": [
       "1"
      ]
     },
     "execution_count": 9,
     "metadata": {},
     "output_type": "execute_result"
    }
   ],
   "source": [
    "def test_extraction_csv() :\n",
    "\n",
    "    tst_df = pd.DataFrame({\n",
    "        'submitted': [10 for i in range(182)],\n",
    "        'id': [i for i in range(182)],\n",
    "        'minutes': [i**2 for i in range(182)],\n",
    "    })\n",
    "\n",
    "    tst_df['submitted'] = pd.to_datetime(tst_df['submitted'], errors='coerce')\n",
    "\n",
    "    tst_df.to_csv('test_assets/csv_test',index=False)\n",
    "\n",
    "    vector,vector_id,df = cr.extraction_csv('test_assets/csv_test')\n",
    "\n",
    "    assert np.array_equal(vector, np.array([i**2 for i in range(182)])), \"Test échoué pour vector\"\n",
    "    assert np.array_equal(vector_id, np.array([i for i in range(182)])), \"Test échoué pour vector_id\"\n",
    "\n",
    "    try:\n",
    "        pd.testing.assert_frame_equal(df, tst_df)\n",
    "        print(\"Test réussi pour DataFrame\")\n",
    "    except AssertionError as e:\n",
    "        print(f\"Test échoué pour DataFrame : {e}\")\n",
    "\n",
    "\n",
    "\n",
    "    return 1\n",
    "\n",
    "test_extraction_csv()\n"
   ]
  },
  {
   "cell_type": "code",
   "execution_count": 16,
   "metadata": {},
   "outputs": [
    {
     "data": {
      "text/plain": [
       "1"
      ]
     },
     "execution_count": 16,
     "metadata": {},
     "output_type": "execute_result"
    }
   ],
   "source": [
    "def test_dictionnaire_minutes() :\n",
    "    l = np.array([[i,i**2] for i in range(100)])\n",
    "    dictionnaire_verif = {i : j for i,j in zip(l[:,0],l[:,1])}\n",
    "    vector_id = l[:,0]\n",
    "    vector = l[:,1]\n",
    "    dictionnaire_obtenu = cr.dictionnaire_minutes(vector,vector_id)\n",
    "    assert dictionnaire_verif == dictionnaire_obtenu, \"Les deux dictionnaires sont différents\"\n",
    "\n",
    "    return 1\n",
    "\n",
    "\n",
    "test_dictionnaire_minutes()"
   ]
  },
  {
   "cell_type": "code",
   "execution_count": 24,
   "metadata": {},
   "outputs": [
    {
     "name": "stdout",
     "output_type": "stream",
     "text": [
      "[(99, 9801), (98, 9604), (97, 9409), (96, 9216), (95, 9025), (94, 8836), (93, 8649), (92, 8464), (91, 8281), (90, 8100), (89, 7921), (88, 7744), (87, 7569), (86, 7396), (85, 7225), (84, 7056), (83, 6889), (82, 6724), (81, 6561), (80, 6400), (79, 6241), (78, 6084), (77, 5929), (76, 5776), (75, 5625), (74, 5476), (73, 5329), (72, 5184), (71, 5041), (70, 4900), (69, 4761), (68, 4624), (67, 4489), (66, 4356), (65, 4225), (64, 4096), (63, 3969), (62, 3844), (61, 3721), (60, 3600), (59, 3481), (58, 3364), (57, 3249), (56, 3136), (55, 3025), (54, 2916), (53, 2809), (52, 2704), (51, 2601), (50, 2500), (49, 2401), (48, 2304), (47, 2209), (46, 2116), (45, 2025), (44, 1936), (43, 1849), (42, 1764), (41, 1681), (40, 1600), (39, 1521), (38, 1444), (37, 1369), (36, 1296), (35, 1225), (34, 1156), (33, 1089), (32, 1024), (31, 961), (30, 900), (29, 841), (28, 784), (27, 729), (26, 676), (25, 625), (24, 576), (23, 529), (22, 484), (21, 441), (20, 400), (19, 361), (18, 324), (17, 289), (16, 256), (15, 225), (14, 196), (13, 169), (12, 144), (11, 121), (10, 100), (9, 81), (8, 64), (7, 49), (6, 36), (5, 25), (4, 16), (3, 9), (2, 4), (1, 1), (0, 0)]\n"
     ]
    },
    {
     "data": {
      "text/plain": [
       "1"
      ]
     },
     "execution_count": 24,
     "metadata": {},
     "output_type": "execute_result"
    }
   ],
   "source": [
    "def test_top_liste() :\n",
    "    l = np.array([[i,i**2] for i in range(100)])\n",
    "    dictionnaire_verif = {i : j for i,j in zip(l[:,0],l[:,1])} #On réutilise des mêmes dictionnaires car on les connait mieux \n",
    "    top = cr.top_liste(dictionnaire_verif)\n",
    "    l_test = [(i,i**2) for i in range(100)]\n",
    "    l_test = l_test[::-1]\n",
    "    assert top == l_test , \"la liste obtenu est incorrecte \"\n",
    "\n",
    "    return 1\n",
    "\n",
    "test_top_liste()"
   ]
  },
  {
   "cell_type": "code",
   "execution_count": 23,
   "metadata": {},
   "outputs": [
    {
     "data": {
      "image/png": "[encoded data removed]",
      "text/plain": [
       "<Figure size 100x400 with 1 Axes>"
      ]
     },
     "metadata": {},
     "output_type": "display_data"
    },
    {
     "data": {
      "text/plain": [
       "1"
      ]
     },
     "execution_count": 23,
     "metadata": {},
     "output_type": "execute_result"
    }
   ],
   "source": [
    "def test_boxplot() :\n",
    "    l = np.array([[i,i**2] for i in range(100)])\n",
    "    dictionnaire_verif = {i : j for i,j in zip(l[:,0],l[:,1])} #On réutilise des mêmes dictionnaires car on les connait mieux \n",
    "    cr.boxplot(dictionnaire_verif)\n",
    "\n",
    "    return 1\n",
    "\n",
    "test_boxplot()"
   ]
  },
  {
   "cell_type": "code",
   "execution_count": 25,
   "metadata": {},
   "outputs": [
    {
     "data": {
      "text/plain": [
       "1"
      ]
     },
     "execution_count": 25,
     "metadata": {},
     "output_type": "execute_result"
    }
   ],
   "source": [
    "def test_filtre_minutes() :\n",
    "    l = np.array([[i,i**2] for i in range(100)])\n",
    "    dictionnaire = {i : j for i,j in zip(l[:,0],l[:,1])} #On réutilise des mêmes dictionnaires car on les connait mieux \n",
    "    dictionnaire = cr.filtre_minutes(dictionnaire)\n",
    "    l_verif = np.array([[i,i**2] for i in range(1,32)]) #Jusqu'à 31, x**2 ne dépasse pas 1000\n",
    "    dictionnaire_verif = {i : j for i,j in zip(l_verif[:,0],l_verif[:,1])}\n",
    "\n",
    "    assert dictionnaire == dictionnaire_verif, \"les deux dictionnaires sont différents\"\n",
    "\n",
    "\n",
    "\n",
    "    return 1\n",
    "\n",
    "test_filtre_minutes()"
   ]
  },
  {
   "cell_type": "code",
   "execution_count": null,
   "metadata": {},
   "outputs": [],
   "source": [
    "def test_generate_cursor_dataframe() :\n",
    "\n",
    "    return 1"
   ]
  },
  {
   "cell_type": "code",
   "execution_count": null,
   "metadata": {},
   "outputs": [],
   "source": [
    "def test_df_to_pickle() :\n",
    "\n",
    "    return 1"
   ]
  },
  {
   "cell_type": "code",
   "execution_count": null,
   "metadata": {},
   "outputs": [],
   "source": [
    "def test_generate_camemberts_significatifs() :\n",
    "\n",
    "    return 1 "
   ]
  },
  {
   "cell_type": "code",
   "execution_count": 27,
   "metadata": {},
   "outputs": [
    {
     "data": {
      "text/plain": [
       "<module 'pytest' from '/opt/anaconda3/envs/env_TP2/lib/python3.12/site-packages/pytest/__init__.py'>"
      ]
     },
     "execution_count": 27,
     "metadata": {},
     "output_type": "execute_result"
    }
   ],
   "source": [
    "pytest"
   ]
  }
 ],
 "metadata": {
  "kernelspec": {
   "display_name": "env_TP2",
   "language": "python",
   "name": "python3"
  },
  "language_info": {
   "codemirror_mode": {
    "name": "ipython",
    "version": 3
   },
   "file_extension": ".py",
   "mimetype": "text/x-python",
   "name": "python",
   "nbconvert_exporter": "python",
   "pygments_lexer": "ipython3",
   "version": "3.12.3"
  },
  "orig_nbformat": 4,
  "vscode": {
   "interpreter": {
    "hash": "dac106c35ce3d047d16e564b0a4c64d2054fbff410f883fbe9cca57677e1729f"
   }
  }
 },
 "nbformat": 4,
 "nbformat_minor": 2
}
